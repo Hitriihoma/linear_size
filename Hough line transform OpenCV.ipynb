{
 "cells": [
  {
   "cell_type": "code",
   "execution_count": 238,
   "metadata": {},
   "outputs": [],
   "source": [
    "import cv2\n",
    "import numpy as np\n",
    "import math\n",
    "import copy\n",
    "import pprint"
   ]
  },
  {
   "cell_type": "code",
   "execution_count": 428,
   "metadata": {},
   "outputs": [],
   "source": [
    "#image = cv2.imread(r\"D:\\Зубарев (D)\\Старое\\фото с микроскопа\\ПФЛ по рисунку 12-02 11-03 11-01 12-08 12-07 12-13\\Az 9260 11-03\\2 без ФР\\06-DC 1_2.jpg\")\n",
    "img = cv2.imread(r\"C:\\Users\\22080\\Desktop\\06-DC 1_2.jpg\")\n",
    "\n",
    "scale_percent = 50 # Процент от изначального размера\n",
    "width = int(img.shape[1] * scale_percent / 100)\n",
    "height = int(img.shape[0] * scale_percent / 100)\n",
    "dim = (width, height)\n",
    "resized = cv2.resize(img, dim, interpolation = cv2.INTER_AREA)\n",
    "\n",
    "#cv2.imshow(\"Image\", resized)\n",
    "#cv2.waitKey(0)\n",
    "#cv2.destroyAllWindows()"
   ]
  },
  {
   "cell_type": "code",
   "execution_count": 430,
   "metadata": {},
   "outputs": [],
   "source": [
    "def four_lines_check(img_flc, line): #opencv.image, numpy.ndarray\n",
    "# проверям. все ли границы распознаны   \n",
    "    storage = np.array([])\n",
    "    step = img_flc.shape[0] / 100\n",
    "    ruler = img_flc.shape[0] * 0.9\n",
    "    deleted_col = int(0)\n",
    "    #print('ruler', ruler)\n",
    "    #print('step', step)\n",
    "    line_ret = copy.deepcopy(line)\n",
    "    if line is not None:\n",
    "        for x in range(0, len(line)):\n",
    "            if line[x][0][1] > ruler: # внизу. где линейка\n",
    "                line_ret = np.delete(arr=line_ret, obj=(x-deleted_col), axis=0)\n",
    "                deleted_col += 1\n",
    "            p1 = True\n",
    "            for i in line[x]:\n",
    "                for j in storage:\n",
    "                    if abs(i[1] -j) < step:\n",
    "                        p1 = False\n",
    "            if p1:\n",
    "                storage = np.append(storage, line[x][0][1])\n",
    "                               \n",
    "        storage = storage[storage <= ruler]\n",
    "\n",
    "        return line_ret, True if len(storage) == 4 else False, storage\n",
    "    else:\n",
    "        return line_ret, False, storage"
   ]
  },
  {
   "cell_type": "code",
   "execution_count": 431,
   "metadata": {},
   "outputs": [],
   "source": [
    "def sort_mdarray(a): # numpy.ndarray\n",
    "# сортировка по колонке [:,1]\n",
    "    a = a[a[:,0][:,1].argsort()]\n",
    "    return a\n",
    "\n",
    "def make_position(storage): #numpy.ndarray\n",
    "# список: mp[0] - индекс наименьшего. mp[1] - индекс следующего..\n",
    "    return storage.argsort(kind='quicksort', axis=0)"
   ]
  },
  {
   "cell_type": "code",
   "execution_count": 432,
   "metadata": {},
   "outputs": [],
   "source": [
    "def equal_from_lines(img_efl, line, storage_flc): #opencv.image,  numpy.ndarray\n",
    "# выводим уравнения прямых для расчёта расстояния    \n",
    "    # делим на 4 близких массива по шагу\n",
    "    step = img_efl.shape[0] / 100\n",
    "    #print(storage_flc)\n",
    "    dots = np.array([storage_flc]).reshape(4,1).astype(int).tolist()\n",
    "    #print('initialize dots', dots)\n",
    "    for x in range(0, len(line)):\n",
    "        #print('line[x]', line[x])\n",
    "        for i in line[x]:\n",
    "            #print('len(dot)', len(dots))\n",
    "            for j in range(0, len(dots)):\n",
    "                #print('i, j',i[1], dots[j])\n",
    "                if abs(i[1] - dots[j][0]) < step:\n",
    "                    #dots = np.insert(arr=dots, obj=x, values=i[1])\n",
    "                    dots[j].append([i])\n",
    "                    #print('успех', dots)\n",
    "                    \n",
    "    for i in range(4): # убираем значения storage\n",
    "        dots[i] = dots[i][1:]\n",
    "    #pprint.pprint(dots[0])                   \n",
    "    \n",
    "    equals = [[],[],[],[]]\n",
    "    for i in range(0, len(dots)):\n",
    "        # для каждой группы линий\n",
    "        for j in dots[i]:\n",
    "            # для каждой линии\n",
    "            #print('j', j)\n",
    "            a = j[0][3] - j[0][1]\n",
    "            b = 1\n",
    "            c = ( a*(j[0][0]) + (j[0][0] - j[0][2])*(j[0][1]) ) / ( (j[0][0] - j[0][2]) ) \n",
    "            equals[i].append([a,b,c])\n",
    "    #pprint.pprint(equals)\n",
    "    \n",
    "    res = np.array([[]])\n",
    "    for i in equals:\n",
    "        # для каждой группы линий\n",
    "        a = int(0)\n",
    "        b = int(0)\n",
    "        c = int(0)\n",
    "        for j in i:\n",
    "            a += j[0]\n",
    "            b += j[1]\n",
    "            c += j[2]\n",
    "        a = a / len(i)\n",
    "        b = b / len(i)\n",
    "        c = c / len(i)         \n",
    "        res = np.append(res,[[a,b,c]], axis=1)\n",
    "    return res.reshape(4,3)"
   ]
  },
  {
   "cell_type": "code",
   "execution_count": 433,
   "metadata": {},
   "outputs": [],
   "source": [
    "def dots_from_lines(img_efl, line, storage_flc): #opencv.image,  numpy.ndarray\n",
    "# делим на группы по storage     \n",
    "    # делим на 4 близких массива по шагу\n",
    "    step = img_efl.shape[0] / 100\n",
    "    dots = np.array([storage_flc]).reshape(4,1).astype(int).tolist()\n",
    "    for x in range(0, len(line)):\n",
    "        for i in line[x]:\n",
    "            for j in range(0, len(dots)):\n",
    "                if abs(i[1] - dots[j][0]) < step:\n",
    "                    dots[j].append([i])\n",
    "                    \n",
    "    for i in range(4): # убираем значения storage\n",
    "        dots[i] = dots[i][1:]\n",
    "    return dots"
   ]
  },
  {
   "cell_type": "code",
   "execution_count": 376,
   "metadata": {},
   "outputs": [
    {
     "data": {
      "text/plain": [
       "92.0"
      ]
     },
     "execution_count": 376,
     "metadata": {},
     "output_type": "execute_result"
    }
   ],
   "source": [
    "def space_point_line(point, coefs): # list[x,y], list[a,b,c]\n",
    "    return abs( coefs[0]*point[0] + coefs[1]*point[1] - coefs[2])"
   ]
  },
  {
   "cell_type": "code",
   "execution_count": 429,
   "metadata": {},
   "outputs": [
    {
     "name": "stdout",
     "output_type": "stream",
     "text": [
      "storage [291. 479. 571. 383.]\n",
      "верх 13.049645390070921 низ 13.179669030732855 электрод 13.698074974670718\n"
     ]
    }
   ],
   "source": [
    "#           РАБОЧАЯ          СЕКЦИЯ \n",
    "gray = cv2.cvtColor(resized,cv2.COLOR_BGR2GRAY)\n",
    "edges = cv2.Canny(gray,100,200,apertureSize = 3)\n",
    "\n",
    "minLineLength = 1000\n",
    "maxLineGap = 30 # можно 60, меньше линий\n",
    "lines = cv2.HoughLinesP(edges,1,np.pi/180,15,minLineLength,maxLineGap)\n",
    "lines = four_lines_check(resized, lines)[0] # убрали где линейка\n",
    "\n",
    "while not four_lines_check(resized, lines)[1]: # если осталось ровно 4 линии. только не зацикливайся\n",
    "    minLineLength -= 50\n",
    "    maxLineGap -= 5\n",
    "    lines = cv2.HoughLinesP(edges,1,np.pi/180,15,minLineLength,maxLineGap)\n",
    "    lines = four_lines_check(resized, lines)[0]\n",
    "\n",
    "for x in range(0, len(lines)):\n",
    "    for x1,y1,x2,y2 in lines[x]:\n",
    "        cv2.line(resized,(x1,y1),(x2,y2),(0,255,0),2) # рисуем линии\n",
    "        \n",
    "flc_result = four_lines_check(resized, lines)\n",
    "dots = dots_from_lines(resized, lines, flc_result[2]) \n",
    "equals = equal_from_lines(resized, lines, flc_result[2]) \n",
    "positions = make_position(flc_result[2])        \n",
    "\n",
    "rasst12 = space_point_line(dots[  positions[0]  ][0][0][0:2], equals[  positions[1]  ])\n",
    "rasst34 = space_point_line(dots[  positions[2]  ][0][0][0:2], equals[  positions[3]  ])\n",
    "rasst23 = space_point_line(dots[  positions[1]  ][0][0][0:2], equals[  positions[2]  ])\n",
    "\n",
    "# пересчёт в микрометры. начальная высота 1544, ширина 2080\n",
    "# после уменьшения 772х1040\n",
    "# линейка для 100х объектива (увеличнения 50х): 145 пикселей = 10мкм, без учёта уменьшения\n",
    "# один пиксель = 10 / 145 мкм\n",
    "\n",
    "print('верх', rasst12*10/141*2, 'низ', rasst34*10/141*2, 'электрод', rasst23*10/141*2 )\n",
    "\n",
    "cv2.imshow('hough',resized)\n",
    "cv2.waitKey(0)\n",
    "cv2.destroyAllWindows()"
   ]
  },
  {
   "cell_type": "code",
   "execution_count": 96,
   "metadata": {},
   "outputs": [],
   "source": [
    "cv2.imshow('hough',resized)\n",
    "cv2.waitKey(0)\n",
    "cv2.destroyAllWindows()"
   ]
  },
  {
   "cell_type": "code",
   "execution_count": null,
   "metadata": {},
   "outputs": [],
   "source": [
    "#cv.imwrite(\"./экспорт/путь.расширение\", image)"
   ]
  }
 ],
 "metadata": {
  "kernelspec": {
   "display_name": "Python 3",
   "language": "python",
   "name": "python3"
  },
  "language_info": {
   "codemirror_mode": {
    "name": "ipython",
    "version": 3
   },
   "file_extension": ".py",
   "mimetype": "text/x-python",
   "name": "python",
   "nbconvert_exporter": "python",
   "pygments_lexer": "ipython3",
   "version": "3.7.6"
  }
 },
 "nbformat": 4,
 "nbformat_minor": 4
}
